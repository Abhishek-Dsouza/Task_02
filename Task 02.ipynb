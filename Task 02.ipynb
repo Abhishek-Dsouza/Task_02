{
 "cells": [
  {
   "cell_type": "markdown",
   "id": "7bee7420-42df-416a-a378-6bfb0c05ea83",
   "metadata": {},
   "source": [
    "# Task - 2"
   ]
  },
  {
   "cell_type": "markdown",
   "id": "de2c2866-f11e-479f-9f57-7fb2baa90d04",
   "metadata": {},
   "source": [
    "## Q1. You are writing code for a company. The requirement of the company is that you create a python function that will check whether the password entered by the user is correct or not. The function should take the password as input and return the string “Valid Password” if the entered password follows the below-given password guidelines else it should return “Invalid Password”. \n",
    "### Note: 1. The Password should contain at least two uppercase letters and at least two lowercase letters.\n",
    "### 2. The Password should contain at least a number and three special characters.\n",
    "### 3. The length of the password should be 10 characters long.\n",
    "\n",
    "### Answer:-"
   ]
  },
  {
   "cell_type": "code",
   "execution_count": 41,
   "id": "03f406ae-7592-4831-b6be-0fcbacdd7a83",
   "metadata": {},
   "outputs": [],
   "source": [
    "import re\n",
    "\n",
    "def check_password(password):\n",
    "    if len(password) != 10:\n",
    "        return \"Invalid Password\"\n",
    "    if not re.search(r'[A-Z].*[A-Z]', password):\n",
    "        return \"Invalid Password\"\n",
    "    if not re.search(r'[a-z].*[a-z]', password):\n",
    "        return \"Invalid Password\"\n",
    "    if not re.search(r'\\d', password):\n",
    "        return \"Invalid Password\"\n",
    "    if not re.search(r'[!@#$%^&*()_+{}\":?><,./;\\'\\[\\]\\\\|]', password):\n",
    "        return \"Invalid Password\"\n",
    "    return \"Valid Password\"\n"
   ]
  },
  {
   "cell_type": "code",
   "execution_count": 42,
   "id": "4c6289f3-62c1-4744-85ac-d38afdbce73d",
   "metadata": {},
   "outputs": [],
   "source": [
    "password = \"ABhis@12#$\""
   ]
  },
  {
   "cell_type": "code",
   "execution_count": 43,
   "id": "3db98b51-54d1-4964-bce5-51abaee0016f",
   "metadata": {},
   "outputs": [
    {
     "data": {
      "text/plain": [
       "'Valid Password'"
      ]
     },
     "execution_count": 43,
     "metadata": {},
     "output_type": "execute_result"
    }
   ],
   "source": [
    "check_password(password)"
   ]
  },
  {
   "cell_type": "markdown",
   "id": "c75b0b62-053e-4854-b323-4ac4b30626b5",
   "metadata": {},
   "source": [
    "## Q2. Solve the below-given questions using at least one of the following:\n",
    "### 1. Lambda function.\n",
    "### 2. Filter function\n",
    "### 3. Map function\n",
    "### 4. List Comprehension.\n",
    "### * Check if the string starts with a particular letter.\n",
    "### * Check if the string is numeric.\n",
    "### * Sort a list of tuples having fruit names and their quantity. [(\"mango\",99),(\"orange\",80), (\"grapes\", 1000)-\n",
    "### * Find the squares of numbers from 1 to 10.\n",
    "### * Find the cube root of numbers from 1 to 10.\n",
    "### * Check if a given number is even.\n",
    "### * Filter odd numbers from the given list. [1,2,3,4,5,6,7,8,9,10]\n",
    "### * Sort a list of integers into positive and negative integers lists. [1,2,3,4,5,6,-1,-2,-3,-4,-5,0]\n",
    "### Answer:-"
   ]
  },
  {
   "cell_type": "markdown",
   "id": "a51b5a08-d052-4217-b75f-a014b0140a13",
   "metadata": {},
   "source": [
    "####  Check if the string starts with a particular letter using Lambda Function.\n"
   ]
  },
  {
   "cell_type": "code",
   "execution_count": 44,
   "id": "074b67aa-b374-4507-9eee-cea8a2167e2c",
   "metadata": {},
   "outputs": [
    {
     "name": "stdout",
     "output_type": "stream",
     "text": [
      "True\n"
     ]
    }
   ],
   "source": [
    "string = \"hello world\"\n",
    "\n",
    "letter = \"h\"\n",
    "\n",
    "starts_with_letter = lambda s: s.startswith(letter)\n",
    "\n",
    "print(starts_with_letter(string)) \n"
   ]
  },
  {
   "cell_type": "markdown",
   "id": "0943de74-629a-4038-8bd2-6d2ecfc8a5c4",
   "metadata": {},
   "source": [
    "####   Check if the string is numeric using  list comprehension:"
   ]
  },
  {
   "cell_type": "code",
   "execution_count": 45,
   "id": "47b158b6-7c02-40fe-b372-27390a0c8614",
   "metadata": {},
   "outputs": [
    {
     "name": "stdout",
     "output_type": "stream",
     "text": [
      "True\n"
     ]
    }
   ],
   "source": [
    "string = \"1234578\"\n",
    "\n",
    "is_numeric = all((char.isdigit()) for char in string)\n",
    "\n",
    "print(is_numeric) \n"
   ]
  },
  {
   "cell_type": "markdown",
   "id": "1eeb1bb3-e05b-4a58-a384-a2da14da85d7",
   "metadata": {},
   "source": [
    "#### Sort a list of tuples having fruit names and their quantity. [(\"mango\",99),(\"orange\",80), (\"grapes\", 1000)].\n"
   ]
  },
  {
   "cell_type": "code",
   "execution_count": 50,
   "id": "f1637806-323b-4eb3-8a9d-f114c9dbb5b1",
   "metadata": {},
   "outputs": [
    {
     "name": "stdout",
     "output_type": "stream",
     "text": [
      "[('orange', 80), ('mango', 99), ('grapes', 1000)]\n"
     ]
    }
   ],
   "source": [
    "fruits = [(\"mango\", 99), (\"orange\", 80), (\"grapes\", 1000)]\n",
    "\n",
    "sorted_fruits = sorted(fruits, key=lambda x: x[1])\n",
    "\n",
    "print(sorted_fruits)  \n"
   ]
  },
  {
   "cell_type": "markdown",
   "id": "b566172b-bd6a-437d-b00c-4ab2d850a392",
   "metadata": {},
   "source": [
    "####  Find the squares of numbers from 1 to 10 Using list comprehesion:"
   ]
  },
  {
   "cell_type": "code",
   "execution_count": 46,
   "id": "d522249d-d5d2-4341-bb43-95ad2b652e55",
   "metadata": {},
   "outputs": [
    {
     "name": "stdout",
     "output_type": "stream",
     "text": [
      "[1, 4, 9, 16, 25, 36, 49, 64, 81, 100]\n"
     ]
    }
   ],
   "source": [
    "squares = [num**2 for num in range(1, 11)]\n",
    "\n",
    "print(squares) \n",
    "\n",
    "\n",
    "\n"
   ]
  },
  {
   "cell_type": "markdown",
   "id": "a2777457-b9c0-4416-8b53-50a24c9a6436",
   "metadata": {},
   "source": [
    "#### Find the cube root of numbers from 1 to 10 using map function.\n"
   ]
  },
  {
   "cell_type": "code",
   "execution_count": 47,
   "id": "7842c16e-79d0-48ff-b2ca-1c70c439825b",
   "metadata": {},
   "outputs": [
    {
     "name": "stdout",
     "output_type": "stream",
     "text": [
      "[1.0, 1.2599210498948732, 1.4422495703074083, 1.5874010519681994, 1.7099759466766968, 1.8171205928321397, 1.912931182772389, 2.0, 2.080083823051904, 2.154434690031884]\n"
     ]
    }
   ],
   "source": [
    "import math\n",
    "\n",
    "cube_roots = list(map(lambda x: math.pow(x, 1/3), range(1, 11)))\n",
    "\n",
    "print(cube_roots)\n"
   ]
  },
  {
   "cell_type": "markdown",
   "id": "fd9ab765-9026-4790-bdd2-2edfe1359f41",
   "metadata": {},
   "source": [
    "####  Check if a given number is even using lambda function:"
   ]
  },
  {
   "cell_type": "code",
   "execution_count": 48,
   "id": "b019a94d-e419-4345-831c-3d841de37e61",
   "metadata": {},
   "outputs": [
    {
     "name": "stdout",
     "output_type": "stream",
     "text": [
      "True\n"
     ]
    }
   ],
   "source": [
    "is_even = lambda x: x % 2 == 0\n",
    "\n",
    "print(is_even(6)) \n",
    "\n"
   ]
  },
  {
   "cell_type": "markdown",
   "id": "780fb539-e7d3-45b7-9703-692f7ef90922",
   "metadata": {},
   "source": [
    "#### Filter odd numbers from the given list using filter function:"
   ]
  },
  {
   "cell_type": "code",
   "execution_count": 51,
   "id": "5d2f096a-5aa1-49fe-9e75-74e707e0b739",
   "metadata": {},
   "outputs": [
    {
     "name": "stdout",
     "output_type": "stream",
     "text": [
      "[1, 3, 5, 7, 9]\n"
     ]
    }
   ],
   "source": [
    "numbers = [1, 2, 3, 4, 5, 6, 7, 8, 9, 10]\n",
    "\n",
    "odd_numbers = list(filter(lambda x: x % 2 != 0, numbers))\n",
    "\n",
    "print(odd_numbers)\n"
   ]
  },
  {
   "cell_type": "markdown",
   "id": "a317e53a-fa3e-453c-843e-aef668ec383b",
   "metadata": {},
   "source": [
    "####  Sort a list of integers into positive and negative integers lists using list comprehension:\n"
   ]
  },
  {
   "cell_type": "code",
   "execution_count": 49,
   "id": "2477ca1d-0c85-40d4-b032-3e4262b2ad94",
   "metadata": {},
   "outputs": [
    {
     "name": "stdout",
     "output_type": "stream",
     "text": [
      "positive Numbers Are  [1, 2, 3, 4, 5, 6]\n",
      "negative Numbers Are  [-1, -2, -3, -4, -5]\n"
     ]
    }
   ],
   "source": [
    "numbers = [1, 2, 3, 4, 5, 6, -1, -2, -3, -4, -5, 0]\n",
    "\n",
    "positive_numbers = [num for num in numbers if num > 0]\n",
    "\n",
    "negative_numbers = [num for num in numbers if num < 0]\n",
    "\n",
    "print(\"positive Numbers Are \",positive_numbers) \n",
    "\n",
    "print(\"negative Numbers Are \",negative_numbers)  \n"
   ]
  }
 ],
 "metadata": {
  "kernelspec": {
   "display_name": "Python 3 (ipykernel)",
   "language": "python",
   "name": "python3"
  },
  "language_info": {
   "codemirror_mode": {
    "name": "ipython",
    "version": 3
   },
   "file_extension": ".py",
   "mimetype": "text/x-python",
   "name": "python",
   "nbconvert_exporter": "python",
   "pygments_lexer": "ipython3",
   "version": "3.10.8"
  }
 },
 "nbformat": 4,
 "nbformat_minor": 5
}
